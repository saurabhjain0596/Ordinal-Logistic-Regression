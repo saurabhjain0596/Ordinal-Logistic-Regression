{
 "cells": [
  {
   "cell_type": "markdown",
   "metadata": {},
   "source": [
    "### Multi-class ordered variables\n",
    "### Proportional odds logistic regression technique\n",
    "\n",
    "### Job satisfaction level — Dissatisfied, Satisfied, Highly Satisfied\n",
    "### Performance of an individual — Poor, Fair, Excellent\n",
    "### Impact of a regulation on bank’s performance — Positive, Neutral, Negative"
   ]
  },
  {
   "cell_type": "code",
   "execution_count": 3,
   "metadata": {},
   "outputs": [
    {
     "name": "stderr",
     "output_type": "stream",
     "text": [
      "Installing package into 'C:/Users/onlys/Documents/R/win-library/3.5'\n",
      "(as 'lib' is unspecified)\n",
      "\n",
      "Warning message:\n",
      "\"package 'carData' is in use and will not be installed\"\n",
      "Installing package into 'C:/Users/onlys/Documents/R/win-library/3.5'\n",
      "(as 'lib' is unspecified)\n",
      "\n"
     ]
    },
    {
     "name": "stdout",
     "output_type": "stream",
     "text": [
      "\n",
      "  There is a binary version available but the source version is later:\n",
      "       binary   source needs_compilation\n",
      "MASS 7.3-51.5 7.3-51.6              TRUE\n",
      "\n"
     ]
    },
    {
     "name": "stderr",
     "output_type": "stream",
     "text": [
      "installing the source package 'MASS'\n",
      "\n",
      "\n"
     ]
    }
   ],
   "source": [
    "install.packages('carData')\n",
    "install.packages('MASS')\n",
    "library(carData)\n",
    "library(MASS)"
   ]
  },
  {
   "cell_type": "code",
   "execution_count": 7,
   "metadata": {},
   "outputs": [
    {
     "data": {
      "text/html": [
       "<table>\n",
       "<caption>A data.frame: 6 × 6</caption>\n",
       "<thead>\n",
       "\t<tr><th></th><th scope=col>poverty</th><th scope=col>religion</th><th scope=col>degree</th><th scope=col>country</th><th scope=col>age</th><th scope=col>gender</th></tr>\n",
       "\t<tr><th></th><th scope=col>&lt;ord&gt;</th><th scope=col>&lt;fct&gt;</th><th scope=col>&lt;fct&gt;</th><th scope=col>&lt;fct&gt;</th><th scope=col>&lt;int&gt;</th><th scope=col>&lt;fct&gt;</th></tr>\n",
       "</thead>\n",
       "<tbody>\n",
       "\t<tr><th scope=row>1</th><td>Too Little </td><td>yes</td><td>no </td><td>USA</td><td>44</td><td>male  </td></tr>\n",
       "\t<tr><th scope=row>2</th><td>About Right</td><td>yes</td><td>no </td><td>USA</td><td>40</td><td>female</td></tr>\n",
       "\t<tr><th scope=row>3</th><td>Too Little </td><td>yes</td><td>no </td><td>USA</td><td>36</td><td>female</td></tr>\n",
       "\t<tr><th scope=row>4</th><td>Too Much   </td><td>yes</td><td>yes</td><td>USA</td><td>25</td><td>female</td></tr>\n",
       "\t<tr><th scope=row>5</th><td>Too Little </td><td>yes</td><td>yes</td><td>USA</td><td>39</td><td>male  </td></tr>\n",
       "\t<tr><th scope=row>6</th><td>About Right</td><td>yes</td><td>no </td><td>USA</td><td>80</td><td>female</td></tr>\n",
       "</tbody>\n",
       "</table>\n"
      ],
      "text/latex": [
       "A data.frame: 6 × 6\n",
       "\\begin{tabular}{r|llllll}\n",
       "  & poverty & religion & degree & country & age & gender\\\\\n",
       "  & <ord> & <fct> & <fct> & <fct> & <int> & <fct>\\\\\n",
       "\\hline\n",
       "\t1 & Too Little  & yes & no  & USA & 44 & male  \\\\\n",
       "\t2 & About Right & yes & no  & USA & 40 & female\\\\\n",
       "\t3 & Too Little  & yes & no  & USA & 36 & female\\\\\n",
       "\t4 & Too Much    & yes & yes & USA & 25 & female\\\\\n",
       "\t5 & Too Little  & yes & yes & USA & 39 & male  \\\\\n",
       "\t6 & About Right & yes & no  & USA & 80 & female\\\\\n",
       "\\end{tabular}\n"
      ],
      "text/markdown": [
       "\n",
       "A data.frame: 6 × 6\n",
       "\n",
       "| <!--/--> | poverty &lt;ord&gt; | religion &lt;fct&gt; | degree &lt;fct&gt; | country &lt;fct&gt; | age &lt;int&gt; | gender &lt;fct&gt; |\n",
       "|---|---|---|---|---|---|---|\n",
       "| 1 | Too Little  | yes | no  | USA | 44 | male   |\n",
       "| 2 | About Right | yes | no  | USA | 40 | female |\n",
       "| 3 | Too Little  | yes | no  | USA | 36 | female |\n",
       "| 4 | Too Much    | yes | yes | USA | 25 | female |\n",
       "| 5 | Too Little  | yes | yes | USA | 39 | male   |\n",
       "| 6 | About Right | yes | no  | USA | 80 | female |\n",
       "\n"
      ],
      "text/plain": [
       "  poverty     religion degree country age gender\n",
       "1 Too Little  yes      no     USA     44  male  \n",
       "2 About Right yes      no     USA     40  female\n",
       "3 Too Little  yes      no     USA     36  female\n",
       "4 Too Much    yes      yes    USA     25  female\n",
       "5 Too Little  yes      yes    USA     39  male  \n",
       "6 About Right yes      no     USA     80  female"
      ]
     },
     "metadata": {},
     "output_type": "display_data"
    }
   ],
   "source": [
    "data(WVS)\n",
    "head(WVS)"
   ]
  },
  {
   "cell_type": "markdown",
   "metadata": {},
   "source": [
    "### Poverty is the multi-class ordered dependent variable with categories — ‘Too Little’, ‘About Right’ and ‘Too Much’"
   ]
  },
  {
   "cell_type": "code",
   "execution_count": 9,
   "metadata": {},
   "outputs": [
    {
     "data": {
      "text/plain": [
       "        poverty     religion   degree          country          age       \n",
       " Too Little :2708   no : 786   no :4238   Australia:1874   Min.   :18.00  \n",
       " About Right:1862   yes:4595   yes:1143   Norway   :1127   1st Qu.:31.00  \n",
       " Too Much   : 811                         Sweden   :1003   Median :43.00  \n",
       "                                          USA      :1377   Mean   :45.04  \n",
       "                                                           3rd Qu.:58.00  \n",
       "                                                           Max.   :92.00  \n",
       "    gender    \n",
       " female:2725  \n",
       " male  :2656  \n",
       "              \n",
       "              \n",
       "              \n",
       "              "
      ]
     },
     "metadata": {},
     "output_type": "display_data"
    }
   ],
   "source": [
    "summary(WVS)"
   ]
  },
  {
   "cell_type": "markdown",
   "metadata": {},
   "source": [
    "#### Analyze the distribution of poverty across age, sex and country"
   ]
  },
  {
   "cell_type": "code",
   "execution_count": 13,
   "metadata": {},
   "outputs": [
    {
     "name": "stderr",
     "output_type": "stream",
     "text": [
      "Installing package into 'C:/Users/onlys/Documents/R/win-library/3.5'\n",
      "(as 'lib' is unspecified)\n",
      "\n",
      "also installing the dependency 'isoband'\n",
      "\n",
      "\n"
     ]
    },
    {
     "name": "stdout",
     "output_type": "stream",
     "text": [
      "package 'isoband' successfully unpacked and MD5 sums checked\n",
      "package 'ggplot2' successfully unpacked and MD5 sums checked\n",
      "\n",
      "The downloaded binary packages are in\n",
      "\tC:\\Users\\onlys\\AppData\\Local\\Temp\\Rtmp04Shvk\\downloaded_packages\n"
     ]
    }
   ],
   "source": [
    "install.packages('ggplot2')\n",
    "library(ggplot2)"
   ]
  },
  {
   "cell_type": "code",
   "execution_count": 14,
   "metadata": {},
   "outputs": [
    {
     "data": {
      "image/png": "[encoded data removed]",
      "text/plain": [
       "plot without title"
      ]
     },
     "metadata": {
      "image/png": {
       "height": 420,
       "width": 420
      },
      "text/plain": {
       "height": 420,
       "width": 420
      }
     },
     "output_type": "display_data"
    }
   ],
   "source": [
    "ggplot(WVS, aes(x = poverty, y = age, fill = poverty)) +   geom_boxplot(size = .75) +   facet_grid(country ~ gender, margins = FALSE) +   theme(axis.text.x = element_text(angle = 45, hjust = 1, vjust = 1))"
   ]
  },
  {
   "cell_type": "markdown",
   "metadata": {},
   "source": [
    "### Fitting the Model"
   ]
  },
  {
   "cell_type": "code",
   "execution_count": 15,
   "metadata": {},
   "outputs": [
    {
     "data": {
      "text/plain": [
       "Call:\n",
       "polr(formula = poverty ~ religion + degree + country + age + \n",
       "    gender, data = WVS, Hess = TRUE)\n",
       "\n",
       "Coefficients:\n",
       "                 Value Std. Error t value\n",
       "religionyes    0.17973   0.077346   2.324\n",
       "degreeyes      0.14092   0.066193   2.129\n",
       "countryNorway -0.32235   0.073766  -4.370\n",
       "countrySweden -0.60330   0.079494  -7.589\n",
       "countryUSA     0.61777   0.070665   8.742\n",
       "age            0.01114   0.001561   7.139\n",
       "gendermale     0.17637   0.052972   3.329\n",
       "\n",
       "Intercepts:\n",
       "                       Value   Std. Error t value\n",
       "Too Little|About Right  0.7298  0.1041     7.0128\n",
       "About Right|Too Much    2.5325  0.1103    22.9496\n",
       "\n",
       "Residual Deviance: 10402.59 \n",
       "AIC: 10420.59 "
      ]
     },
     "metadata": {},
     "output_type": "display_data"
    }
   ],
   "source": [
    "model_fit <- polr(poverty~religion+degree+country+age+gender, data = WVS, Hess = TRUE)\n",
    "summary(model_fit)"
   ]
  },
  {
   "cell_type": "markdown",
   "metadata": {},
   "source": [
    "#### The significance of coefficients and intercepts"
   ]
  },
  {
   "cell_type": "code",
   "execution_count": 16,
   "metadata": {},
   "outputs": [
    {
     "data": {
      "text/html": [
       "<table>\n",
       "<caption>A matrix: 9 × 4 of type dbl</caption>\n",
       "<thead>\n",
       "\t<tr><th></th><th scope=col>Value</th><th scope=col>Std. Error</th><th scope=col>t value</th><th scope=col>p value</th></tr>\n",
       "</thead>\n",
       "<tbody>\n",
       "\t<tr><th scope=row>religionyes</th><td> 0.17973194</td><td>0.077346042</td><td> 2.323738</td><td>0.020</td></tr>\n",
       "\t<tr><th scope=row>degreeyes</th><td> 0.14091745</td><td>0.066193109</td><td> 2.128884</td><td>0.033</td></tr>\n",
       "\t<tr><th scope=row>countryNorway</th><td>-0.32235359</td><td>0.073766034</td><td>-4.369946</td><td>0.000</td></tr>\n",
       "\t<tr><th scope=row>countrySweden</th><td>-0.60329785</td><td>0.079493909</td><td>-7.589234</td><td>0.000</td></tr>\n",
       "\t<tr><th scope=row>countryUSA</th><td> 0.61777260</td><td>0.070664761</td><td> 8.742301</td><td>0.000</td></tr>\n",
       "\t<tr><th scope=row>age</th><td> 0.01114091</td><td>0.001560585</td><td> 7.138933</td><td>0.000</td></tr>\n",
       "\t<tr><th scope=row>gendermale</th><td> 0.17636863</td><td>0.052972253</td><td> 3.329453</td><td>0.001</td></tr>\n",
       "\t<tr><th scope=row>Too Little|About Right</th><td> 0.72976353</td><td>0.104061643</td><td> 7.012800</td><td>0.000</td></tr>\n",
       "\t<tr><th scope=row>About Right|Too Much</th><td> 2.53247870</td><td>0.110349780</td><td>22.949558</td><td>0.000</td></tr>\n",
       "</tbody>\n",
       "</table>\n"
      ],
      "text/latex": [
       "A matrix: 9 × 4 of type dbl\n",
       "\\begin{tabular}{r|llll}\n",
       "  & Value & Std. Error & t value & p value\\\\\n",
       "\\hline\n",
       "\treligionyes &  0.17973194 & 0.077346042 &  2.323738 & 0.020\\\\\n",
       "\tdegreeyes &  0.14091745 & 0.066193109 &  2.128884 & 0.033\\\\\n",
       "\tcountryNorway & -0.32235359 & 0.073766034 & -4.369946 & 0.000\\\\\n",
       "\tcountrySweden & -0.60329785 & 0.079493909 & -7.589234 & 0.000\\\\\n",
       "\tcountryUSA &  0.61777260 & 0.070664761 &  8.742301 & 0.000\\\\\n",
       "\tage &  0.01114091 & 0.001560585 &  7.138933 & 0.000\\\\\n",
       "\tgendermale &  0.17636863 & 0.052972253 &  3.329453 & 0.001\\\\\n",
       "\tToo Little\\textbar{}About Right &  0.72976353 & 0.104061643 &  7.012800 & 0.000\\\\\n",
       "\tAbout Right\\textbar{}Too Much &  2.53247870 & 0.110349780 & 22.949558 & 0.000\\\\\n",
       "\\end{tabular}\n"
      ],
      "text/markdown": [
       "\n",
       "A matrix: 9 × 4 of type dbl\n",
       "\n",
       "| <!--/--> | Value | Std. Error | t value | p value |\n",
       "|---|---|---|---|---|\n",
       "| religionyes |  0.17973194 | 0.077346042 |  2.323738 | 0.020 |\n",
       "| degreeyes |  0.14091745 | 0.066193109 |  2.128884 | 0.033 |\n",
       "| countryNorway | -0.32235359 | 0.073766034 | -4.369946 | 0.000 |\n",
       "| countrySweden | -0.60329785 | 0.079493909 | -7.589234 | 0.000 |\n",
       "| countryUSA |  0.61777260 | 0.070664761 |  8.742301 | 0.000 |\n",
       "| age |  0.01114091 | 0.001560585 |  7.138933 | 0.000 |\n",
       "| gendermale |  0.17636863 | 0.052972253 |  3.329453 | 0.001 |\n",
       "| Too Little|About Right |  0.72976353 | 0.104061643 |  7.012800 | 0.000 |\n",
       "| About Right|Too Much |  2.53247870 | 0.110349780 | 22.949558 | 0.000 |\n",
       "\n"
      ],
      "text/plain": [
       "                       Value       Std. Error  t value   p value\n",
       "religionyes             0.17973194 0.077346042  2.323738 0.020  \n",
       "degreeyes               0.14091745 0.066193109  2.128884 0.033  \n",
       "countryNorway          -0.32235359 0.073766034 -4.369946 0.000  \n",
       "countrySweden          -0.60329785 0.079493909 -7.589234 0.000  \n",
       "countryUSA              0.61777260 0.070664761  8.742301 0.000  \n",
       "age                     0.01114091 0.001560585  7.138933 0.000  \n",
       "gendermale              0.17636863 0.052972253  3.329453 0.001  \n",
       "Too Little|About Right  0.72976353 0.104061643  7.012800 0.000  \n",
       "About Right|Too Much    2.53247870 0.110349780 22.949558 0.000  "
      ]
     },
     "metadata": {},
     "output_type": "display_data"
    }
   ],
   "source": [
    "summary_table <- coef(summary(model_fit))\n",
    "pval <- pnorm(abs(summary_table[, \"t value\"]),lower.tail = FALSE)* 2\n",
    "summary_table <- cbind(summary_table, \"p value\" = round(pval,3))\n",
    "summary_table"
   ]
  },
  {
   "cell_type": "markdown",
   "metadata": {},
   "source": [
    "#### Since the p-value for all the variables <0.05, hence they are statistically significant at 95% CI"
   ]
  },
  {
   "cell_type": "markdown",
   "metadata": {},
   "source": [
    "### Making Predictions on New Data"
   ]
  },
  {
   "cell_type": "code",
   "execution_count": null,
   "metadata": {},
   "outputs": [],
   "source": [
    "#### Test_Person\n",
    "#Religion : yes\n",
    "#Degree : no\n",
    "#Country : Norway\n",
    "#Age : 30\n",
    "#Gender : male"
   ]
  },
  {
   "cell_type": "code",
   "execution_count": 18,
   "metadata": {},
   "outputs": [
    {
     "data": {
      "text/html": [
       "<dl class=dl-horizontal>\n",
       "\t<dt>Too Little</dt>\n",
       "\t\t<dd>0.589</dd>\n",
       "\t<dt>About Right</dt>\n",
       "\t\t<dd>0.308</dd>\n",
       "\t<dt>Too Much</dt>\n",
       "\t\t<dd>0.103</dd>\n",
       "</dl>\n"
      ],
      "text/latex": [
       "\\begin{description*}\n",
       "\\item[Too Little] 0.589\n",
       "\\item[About Right] 0.308\n",
       "\\item[Too Much] 0.103\n",
       "\\end{description*}\n"
      ],
      "text/markdown": [
       "Too Little\n",
       ":   0.589About Right\n",
       ":   0.308Too Much\n",
       ":   0.103\n",
       "\n"
      ],
      "text/plain": [
       " Too Little About Right    Too Much \n",
       "      0.589       0.308       0.103 "
      ]
     },
     "metadata": {},
     "output_type": "display_data"
    }
   ],
   "source": [
    "new_data = data.frame('religion' = 'yes', 'degree'='no', 'country'='Norway', 'age'=30, 'gender'='male')\n",
    "round(predict(model_fit, new_data, type='p'),3)"
   ]
  },
  {
   "cell_type": "markdown",
   "metadata": {},
   "source": [
    "#### Our model predicts that the individual Test_Person believes that the government’s effort to reduce poverty are Too Little"
   ]
  }
 ],
 "metadata": {
  "kernelspec": {
   "display_name": "R",
   "language": "R",
   "name": "ir"
  },
  "language_info": {
   "codemirror_mode": "r",
   "file_extension": ".r",
   "mimetype": "text/x-r-source",
   "name": "R",
   "pygments_lexer": "r",
   "version": "3.5.3"
  }
 },
 "nbformat": 4,
 "nbformat_minor": 4
}
